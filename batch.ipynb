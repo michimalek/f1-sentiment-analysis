{
 "cells": [
  {
   "cell_type": "code",
   "execution_count": 3,
   "metadata": {},
   "outputs": [],
   "source": [
    "from pyspark.sql import SparkSession, SQLContext\n",
    "from pyspark.sql.functions import row_number\n",
    "from pyspark.sql.window import Window\n",
    "from pyspark.sql.functions import *\n",
    "from google.cloud import storage\n",
    "import pandas as pd"
   ]
  },
  {
   "cell_type": "code",
   "execution_count": 6,
   "metadata": {},
   "outputs": [],
   "source": [
    "def download_csv(csv_name):\n",
    "    bucket_path = \"de2022_f1_jmc\"\n",
    "    client = storage.Client()\n",
    "    bucket = client.bucket(bucket_path)\n",
    "    if isinstance(csv_name, list):\n",
    "        for csv in csv_name:\n",
    "            bucket.blob(f'data/{csv}').download_to_filename(f\"../data/{csv}\")\n",
    "    else:\n",
    "        bucket.blob(f'data/{csv}').download_to_filename(f\"../data/{csv_name}\")\n",
    "\n",
    "# download_csv([\"races.csv\",\"drivers.csv\", \"results.csv\", \"circuits.csv\"])\n",
    "\n",
    "f1_races_path = \"./data/f1_stats/races.csv\"\n",
    "f1_score_path = \"./data/f1_stats/results.csv\"\n",
    "f1_divers_path = \"./data/f1_stats/drivers.csv\"\n",
    "f1_circuits_path = \"./data/f1_stats/circuits.csv\""
   ]
  },
  {
   "cell_type": "code",
   "execution_count": 14,
   "metadata": {},
   "outputs": [
    {
     "name": "stdout",
     "output_type": "stream",
     "text": [
      "+------+------------+--------------------+----------+----------+----------+\n",
      "|raceId|    location|                name|   surname|   to_date| from_date|\n",
      "+------+------------+--------------------+----------+----------+----------+\n",
      "|  1052|      Sakhir|  Bahrain Grand Prix|  Hamilton|2021-03-28|      null|\n",
      "|  1053|       Imola|Emilia Romagna Gr...|Verstappen|2021-04-18|2021-03-28|\n",
      "|  1054|    Portimão|Portuguese Grand ...|  Hamilton|2021-05-02|2021-04-18|\n",
      "|  1055|    Montmeló|  Spanish Grand Prix|  Hamilton|2021-05-09|2021-05-02|\n",
      "|  1056| Monte-Carlo|   Monaco Grand Prix|Verstappen|2021-05-23|2021-05-09|\n",
      "|  1057|        Baku|Azerbaijan Grand ...|     Pérez|2021-06-06|2021-05-23|\n",
      "|  1059|Le Castellet|   French Grand Prix|Verstappen|2021-06-20|2021-06-27|\n",
      "|  1058|   Spielberg|  Styrian Grand Prix|Verstappen|2021-06-27|2021-06-06|\n",
      "|  1060|   Spielberg| Austrian Grand Prix|Verstappen|2021-07-04|2021-06-20|\n",
      "|  1061| Silverstone|  British Grand Prix|  Hamilton|2021-07-18|2021-07-04|\n",
      "|  1062|    Budapest|Hungarian Grand Prix|      Ocon|2021-08-01|2021-07-18|\n",
      "|  1063|         Spa|  Belgian Grand Prix|Verstappen|2021-08-29|2021-08-01|\n",
      "|  1064|   Zandvoort|    Dutch Grand Prix|Verstappen|2021-09-05|2021-08-29|\n",
      "|  1065|       Monza|  Italian Grand Prix| Ricciardo|2021-09-12|2021-09-05|\n",
      "|  1066|       Sochi|  Russian Grand Prix|  Hamilton|2021-09-26|2021-09-12|\n",
      "|  1067|    Istanbul|  Turkish Grand Prix|    Bottas|2021-10-10|2021-09-26|\n",
      "|  1069| Mexico City|Mexico City Grand...|Verstappen|2021-11-07|2021-10-24|\n",
      "|  1070|   São Paulo|São Paulo Grand Prix|Verstappen|2021-11-14|2021-11-07|\n",
      "|  1071|   Al Daayen|    Qatar Grand Prix|  Hamilton|2021-11-21|2021-11-14|\n",
      "|  1072|      Jeddah|Saudi Arabian Gra...|  Hamilton|2021-12-05|2021-11-21|\n",
      "+------+------------+--------------------+----------+----------+----------+\n",
      "only showing top 20 rows\n",
      "\n"
     ]
    }
   ],
   "source": [
    "# Create Spark session\n",
    "spark = SparkSession.builder \\\n",
    "    .master(\"local\") \\\n",
    "    .config(\"spark.sql.autoBroadcastJoinThreshold\", -1) \\\n",
    "    .config(\"spark.executor.memory\", \"500mb\") \\\n",
    "    .appName(\"app\") \\\n",
    "    .getOrCreate()\n",
    "\n",
    "def get_data(file_name):\n",
    "    return spark.read.csv(file_name, header='true');\n",
    "\n",
    "races = get_data(f1_races_path);\n",
    "scores = get_data(f1_score_path);\n",
    "drivers = get_data(f1_divers_path);\n",
    "circuits = get_data(f1_circuits_path);\n",
    "\n",
    "df = scores.join(races.alias(\"races\"), scores.raceId ==  races.raceId,\"left\") \\\n",
    "     .join(drivers, scores.driverId == drivers.driverId, \"left\") \\\n",
    "     .join(races.alias(\"prevRace\"), col(\"prevRace.raceId\") == scores.raceId - 1, \"left\") \\\n",
    "     .join(circuits, col(\"races.circuitId\") == circuits.circuitId, \"left\") \\\n",
    "     .filter(col(\"races.year\") == 2021) \\\n",
    "     .filter(scores.position == 1) \\\n",
    "     .select(scores.raceId, circuits.location, col(\"races.name\"), drivers.surname, to_date(col(\"races.date\"),\"yyyy-MM-dd\").alias(\"to_date\"), to_date(col(\"prevRace.date\"), \"yyyy-MM-dd\").alias(\"from_date\")) \\\n",
    "     .orderBy(col(\"to_date\"));\n",
    "\n",
    "df.show()"
   ]
  },
  {
   "cell_type": "code",
   "execution_count": 16,
   "metadata": {},
   "outputs": [],
   "source": [
    "# conf = spark.sparkContext._jsc.hadoopConfiguration()\n",
    "# conf.set(\"fs.gs.impl\", \"com.google.cloud.hadoop.fs.gcs.GoogleHadoopFileSystem\")\n",
    "# conf.set(\"fs.AbstractFileSystem.gs.impl\", \"com.google.cloud.hadoop.fs.gcs.GoogleHadoopFS\")\n",
    "\n",
    "# # Use the Cloud Storage bucket for temporary BigQuery export data used by the connector.\n",
    "# bucket = \"de_jads_temp-401\"\n",
    "# spark.conf.set('temporaryGcsBucket', bucket)\n",
    "\n",
    "# df \\\n",
    "#   .write.format('bigquery') \\\n",
    "#   .option('table', 'de2022-362622.assignmentDatasets.racesSchedule') \\\n",
    "#   .mode(\"overwrite\") \\\n",
    "#   .save()\n",
    "\n",
    "df.write.csv(\"./data/schedule.csv\")"
   ]
  },
  {
   "cell_type": "code",
   "execution_count": null,
   "metadata": {},
   "outputs": [],
   "source": []
  }
 ],
 "metadata": {
  "kernelspec": {
   "display_name": "Python 3 (ipykernel)",
   "language": "python",
   "name": "python3"
  },
  "language_info": {
   "codemirror_mode": {
    "name": "ipython",
    "version": 3
   },
   "file_extension": ".py",
   "mimetype": "text/x-python",
   "name": "python",
   "nbconvert_exporter": "python",
   "pygments_lexer": "ipython3",
   "version": "3.10.8"
  },
  "vscode": {
   "interpreter": {
    "hash": "b0fa6594d8f4cbf19f97940f81e996739fb7646882a419484c72d19e05852a7e"
   }
  }
 },
 "nbformat": 4,
 "nbformat_minor": 4
}
